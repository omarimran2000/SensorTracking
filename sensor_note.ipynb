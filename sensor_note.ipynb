{
 "cells": [
  {
   "cell_type": "markdown",
   "source": [
    "This notebook demonstrates parser code for the X4 and TI radar. It also shows code from the X4 threshold module.\n"
   ],
   "metadata": {
    "collapsed": false,
    "pycharm": {
     "name": "#%% md\n"
    }
   }
  },
  {
   "cell_type": "code",
   "execution_count": 16,
   "outputs": [],
   "source": [
    "import numpy as np\n",
    "import csv\n",
    "import pandas as pd"
   ],
   "metadata": {
    "collapsed": false,
    "pycharm": {
     "name": "#%%\n",
     "is_executing": false
    }
   }
  },
  {
   "cell_type": "markdown",
   "source": [
    "This code below demonstrates the X4 parser for putting real and imaginary parts together:"
   ],
   "metadata": {
    "collapsed": false,
    "pycharm": {
     "name": "#%% md\n"
    }
   }
  },
  {
   "cell_type": "code",
   "execution_count": 23,
   "outputs": [
    {
     "data": {
      "text/plain": "'converted'"
     },
     "metadata": {},
     "output_type": "execute_result",
     "execution_count": 23
    }
   ],
   "source": [
    "def iq_data(filename,csvname):\n",
    "    with open(filename, \"rb\") as f:\n",
    "        data = np.fromfile(f, dtype=np.float32)\n",
    "    for i in range(0, len(data) // 363 - 1):\n",
    "        temp = data[3 * (i + 1) + 360 * i:3 * (i + 1) + 360 * (i + 1)]\n",
    "        iqdata = []\n",
    "        for j in range(0, 180):\n",
    "            if temp[j + 180] > 0:\n",
    "                iqdata.append(str(round(temp[j], 4)) + \"+\" + str(round(temp[j + 180], 4)) + \"j\")\n",
    "            else:\n",
    "                iqdata.append(str(round(temp[j], 4)) + str(round(temp[j + 180], 4)) + \"j\")\n",
    "        with open(csvname+'.csv', 'a', newline=\"\") as csvFile:\n",
    "             writer = csv.writer(csvFile)\n",
    "             writer.writerow(iqdata)\n",
    "    f.close()\n",
    "    csvFile.close()\n",
    "    return 'converted'\n",
    "iq_data(\"X4data.dat\",\"X4iq\")\n"
   ],
   "metadata": {
    "collapsed": false,
    "pycharm": {
     "name": "#%%\n",
     "is_executing": false
    }
   }
  },
  {
   "cell_type": "markdown",
   "source": [
    "This code below demonstrates the X4 parser for raw data:\n"
   ],
   "metadata": {
    "collapsed": false,
    "pycharm": {
     "name": "#%% md\n"
    }
   }
  },
  {
   "cell_type": "code",
   "execution_count": 24,
   "outputs": [
    {
     "data": {
      "text/plain": "'converted'"
     },
     "metadata": {},
     "output_type": "execute_result",
     "execution_count": 24
    }
   ],
   "source": [
    "def raw_data(filename,csvname):\n",
    "    with open(filename, \"rb\") as f:\n",
    "        data = np.fromfile(f, dtype=np.float32)\n",
    "    for i in range(0, len(data) // 1473 - 1):\n",
    "        temp = data[3 + 1470 * i:3 + 1470 * (i + 1)]\n",
    "\n",
    "        with open(csvname+'.csv', 'a', newline=\"\") as csvFile:\n",
    "            writer = csv.writer(csvFile)\n",
    "            writer.writerow(temp)\n",
    "    f.close()\n",
    "    csvFile.close()\n",
    "    return 'converted'\n",
    "\n",
    "raw_data(\"X4data.dat\", \"X4raw\")\n"
   ],
   "metadata": {
    "collapsed": false,
    "pycharm": {
     "name": "#%%\n",
     "is_executing": false
    }
   }
  },
  {
   "cell_type": "markdown",
   "source": [
    "This code is used to read data taken in by TI radar and parses it to a csv file.\n"
   ],
   "metadata": {
    "collapsed": false,
    "pycharm": {
     "name": "#%% md\n"
    }
   }
  },
  {
   "cell_type": "code",
   "execution_count": 37,
   "outputs": [
    {
     "data": {
      "text/plain": "'converted'"
     },
     "metadata": {},
     "output_type": "execute_result",
     "execution_count": 37
    }
   ],
   "source": [
    "def readTSWdata(filename,csvname):\n",
    "    # Global Variables - change based on sensor config\n",
    "    numADCSamples = 256 # number of ADC samples per chirp\n",
    "    numADCBits = 16 # number of ADC bits per sample\n",
    "    numRX = 4 # number of receivers\n",
    "    numLanes = 2 # do not change. number of lanes is always 2\n",
    "    isReal = 0 # set to 1 if real only data, 0 if complex data\n",
    "\n",
    "    # Read file\n",
    "    with open(filename, 'rb') as f:\n",
    "        adcData = np.fromfile(f, dtype=\"int16\")\n",
    "        for i in range(0, len(adcData)):\n",
    "            if adcData[i] > 0:\n",
    "                adcData[i] = adcData[i] - 2**15\n",
    "            else:\n",
    "                adcData[i] = adcData[i] + 2**15\n",
    "        #adcData = adcData - 2**15\n",
    "        # if 12 or 14 bits ADC per sample compensate for sign extension\n",
    "        if numADCBits != 16:\n",
    "            l_max = 2**(numADCBits-1)-1\n",
    "            for index, val in enumerate(adcData):\n",
    "                if adcData[index] > l_max:\n",
    "                    adcData[index] -= 2**(numADCBits)\n",
    "    f.close()\n",
    "    fileSize = len(adcData)\n",
    "    # Organize data by LVDS lane\n",
    "    # Reshape data based on two samples per LVDS lane\n",
    "    adcData = np.reshape(adcData, (numLanes*2, -1))\n",
    "    \n",
    "    # For real data\n",
    "    if isReal == 1:\n",
    "        # seperate each LVDS lane into rows\n",
    "        LVDS = np.zeros((2, len(adcData[0,:])*2), dtype=\"uint16\")\n",
    "        # interleave the two sample sets from each lane\n",
    "        for i in range(2, len(LVDS)-1, 2):\n",
    "            LVDS[0,0:i] = adcData[0,:]\n",
    "        for i in range(3,len(LVDS), 2):\n",
    "            LVDS[0,1:i] = adcData[1,:]\n",
    "\n",
    "        if numRX > 1:\n",
    "            for i in range(2, len(LVDS)-1, 2):\n",
    "                LVDS[1,0:i] = adcData[2,:]\n",
    "            for i in range(3,len(LVDS), 2):\n",
    "                LVDS[1,1:i] = adcData[3,:]\n",
    "            LVDS = np.reshape(LVDS[0:1,:], (1, -1))\n",
    "            \n",
    "    # For complex data\n",
    "    else:\n",
    "        fileSize = fileSize/2\n",
    "        # seperate each LVDS lane into rows\n",
    "        LVDS = np.zeros((2,len(adcData[1,:])), dtype=\"complex\")\n",
    "        # combine real and imaginary parts\n",
    "        LVDS[0,:] = [complex(a,b) for a,b in zip(adcData[0,:], adcData[1,:])]\n",
    "        if numRX > 1:\n",
    "            LVDS[1,:] = [complex(a,b) for a,b in zip(adcData[2,:], adcData[3,:])]\n",
    "            LVDS = np.reshape(LVDS, (1, -1))\n",
    "            \n",
    "    # organize data by receiver\n",
    "    # seperate each receiver into a single row\n",
    "    adcData = np.zeros((numRX, int(fileSize/numRX)), dtype=\"complex\")\n",
    "    if numRX > 1:\n",
    "        for j in range(0,numRX):\n",
    "            iterator = 0\n",
    "            for i in range(j*numADCSamples, int(fileSize), numADCSamples*numRX):\n",
    "                adcData[j,iterator:iterator+numADCSamples] = LVDS[0, i:i+numADCSamples]\n",
    "                iterator = iterator + numADCSamples\n",
    "    else:\n",
    "        adcData = LVDS[1,:]\n",
    "        \n",
    "    data = pd.DataFrame(adcData)\n",
    "    data.to_csv(csvname+'.csv', index=False, header=False, mode='w')\n",
    "\n",
    "    return 'converted'\n",
    "\n",
    "readTSWdata('TIdata.bin', \"TIdata\")"
   ],
   "metadata": {
    "collapsed": false,
    "pycharm": {
     "name": "#%%\n",
     "is_executing": false
    }
   }
  },
  {
   "cell_type": "markdown",
   "source": [
    "This code below is converts your csv file into a list to be used by other threshold functions.\n"
   ],
   "metadata": {
    "collapsed": false
   }
  },
  {
   "cell_type": "code",
   "execution_count": 4,
   "outputs": [
    {
     "data": {
      "text/plain": "array([[2.12019056e-04, 2.66481591e-04, 3.51781533e-04, ...,\n        2.51499279e-04, 2.63311858e-04, 2.49837321e-04],\n       [1.36839763e-03, 1.13654408e-03, 7.92290507e-04, ...,\n        3.49299137e-04, 1.30311682e-04, 1.87399805e-04],\n       [7.57068081e-04, 6.54611670e-04, 6.83445863e-04, ...,\n        6.95117789e-05, 2.17249015e-04, 3.85946482e-04],\n       ...,\n       [9.57032957e-04, 5.99047943e-04, 5.37280418e-04, ...,\n        2.95999810e-04, 2.42217122e-04, 3.25605109e-04],\n       [2.37110777e-03, 1.98986895e-03, 1.28061167e-03, ...,\n        2.95363991e-04, 1.50057104e-04, 2.33757752e-04],\n       [6.45687293e-04, 5.61334516e-04, 1.63285784e-04, ...,\n        6.64671904e-05, 2.17249015e-04, 1.93614790e-04]])"
     },
     "metadata": {},
     "output_type": "execute_result",
     "execution_count": 4
    }
   ],
   "source": [
    "def csv_into_list(filename): \n",
    "    with open(filename,\"rt\") as csvfile:\n",
    "        \n",
    "        data = list(csv.reader(csvfile))  #Declarations \n",
    "        mean=[0]*len(data[0])\n",
    "        \n",
    "        for i in range (len(data)):  #Goes through the 180 by n CSV file \n",
    "            \n",
    "            for j in range (len(data[i])):\n",
    "                \n",
    "                data[i][j]=complex(data[i][j]) #Converts string to complex number\n",
    "                mean[j]+=complex(data[i][j]) #Adds up numbers for each 180 column to get to get a mean for each column \n",
    "        \n",
    "        for i in range (len(data)):\n",
    "            \n",
    "            for j in range (len(data[i])):\n",
    "                \n",
    "                            data[i][j]=abs(data[i][j]-mean[j]/len(data)) #Each complex number is subtracted by it's respective column mean to even it out and the magnitude is taken since it is complex \n",
    "                                \n",
    "    data=np.array(data[0:])    \n",
    "    csvfile.close()\n",
    "    \n",
    "    return data\n",
    "\n",
    "csv_into_list(\"Heli150040.csv\")\n"
   ],
   "metadata": {
    "collapsed": false,
    "pycharm": {
     "name": "#%%\n",
     "is_executing": false
    }
   }
  },
  {
   "cell_type": "markdown",
   "source": [
    "This code find the range bin the target is in\n"
   ],
   "metadata": {
    "collapsed": false
   }
  },
  {
   "cell_type": "code",
   "execution_count": 5,
   "outputs": [
    {
     "data": {
      "text/plain": "[9]"
     },
     "metadata": {},
     "output_type": "execute_result",
     "execution_count": 5
    }
   ],
   "source": [
    "def range_finder(filename,estimated_threshold):   \n",
    "    data=csv_into_list(filename)\n",
    "    positive_finds=[]\n",
    "    \n",
    "    for i in range (len(data[5])):     #Finds points for the 5th sample\n",
    "        \n",
    "        if (estimated_threshold<data[5][i]):\n",
    "            positive_finds.append(i+1)\n",
    "    \n",
    "    return positive_finds\n",
    "\n",
    "range_finder(\"Heli150040.csv\",0.02)\n"
   ],
   "metadata": {
    "collapsed": false,
    "pycharm": {
     "name": "#%%\n",
     "is_executing": false
    }
   }
  },
  {
   "cell_type": "markdown",
   "source": [
    "This code determines the noise to power estimate. \n"
   ],
   "metadata": {
    "collapsed": false
   }
  },
  {
   "cell_type": "code",
   "execution_count": 6,
   "outputs": [
    {
     "data": {
      "text/plain": "0.00045988029076158947"
     },
     "metadata": {},
     "output_type": "execute_result",
     "execution_count": 6
    }
   ],
   "source": [
    "def noise_power_estimate(filename,estimated_threshold): \n",
    "    data=csv_into_list(filename)\n",
    "    positive_finds=range_finder(filename,estimated_threshold)\n",
    "     \n",
    "    sum_data=sum(data[5])\n",
    "    \n",
    "    for i in range (len(positive_finds)):          #Subtracts the positive/guard cells from the overall sum \n",
    "        sum_data-=data[5][positive_finds[i]]\n",
    "        sum_data-=data[5][positive_finds[i]-1]\n",
    "        sum_data-=data[5][positive_finds[i]+1]\n",
    "    \n",
    "    noise_power=sum_data/(len(data[5])-len(positive_finds)*3)  #Takes average excluding guard and positive numbers\n",
    "    \n",
    "    return noise_power\n",
    "\n",
    "noise_power_estimate(\"Heli150040.csv\",0.02)\n"
   ],
   "metadata": {
    "collapsed": false,
    "pycharm": {
     "name": "#%%\n",
     "is_executing": false
    }
   }
  },
  {
   "cell_type": "markdown",
   "source": [
    "This code translate the range bin value into an actual range in centimeters. \n"
   ],
   "metadata": {
    "collapsed": false
   }
  },
  {
   "cell_type": "code",
   "execution_count": 7,
   "outputs": [
    {
     "data": {
      "text/plain": "[29.25]"
     },
     "metadata": {},
     "output_type": "execute_result",
     "execution_count": 7
    }
   ],
   "source": [
    "def distance_finder(filename,estimate_threshold):\n",
    "    positive_finds=range_finder(filename,estimate_threshold)\n",
    "    distance=[]\n",
    "    \n",
    "    for i in range (len(positive_finds)):\n",
    "        \n",
    "        distance.append(positive_finds[i]*5.25-18)\n",
    "    \n",
    "    return distance\n",
    "\n",
    "distance_finder(\"Heli150040.csv\",0.02)\n"
   ],
   "metadata": {
    "collapsed": false,
    "pycharm": {
     "name": "#%%\n",
     "is_executing": false
    }
   }
  },
  {
   "cell_type": "markdown",
   "source": [
    "This code plots the csv function as a graph of range bin against signal strength.\n"
   ],
   "metadata": {
    "collapsed": false
   }
  },
  {
   "cell_type": "code",
   "execution_count": 35,
   "outputs": [
    {
     "data": {
      "text/plain": "<Figure size 432x288 with 1 Axes>",
      "image/png": "[encoded data removed]"
     },
     "metadata": {
      "needs_background": "dark"
     },
     "output_type": "display_data"
    }
   ],
   "source": [
    "import matplotlib.pyplot as plt\n",
    "%matplotlib inline\n",
    "def plot_data(filename):\n",
    "    COLOR = 'white'\n",
    "    data=csv_into_list(filename)\n",
    "    plt.plot(data[5])\n",
    "    plt.xlabel('Range bin')\n",
    "    plt.ylabel('Signal strength')\n",
    "    plt.title('Detection of target in range bins with equivalent signal strength')\n",
    "    plt.rcParams['text.color'] = COLOR\n",
    "    plt.rcParams['axes.labelcolor'] = COLOR\n",
    "    plt.rcParams['xtick.color'] = COLOR\n",
    "    plt.rcParams['ytick.color'] = COLOR\n",
    "    plt.show()\n",
    "\n",
    "plot_data(\"Heli150040.csv\")    "
   ],
   "metadata": {
    "collapsed": false,
    "pycharm": {
     "name": "#%%\n",
     "is_executing": false
    }
   }
  },
  {
   "cell_type": "markdown",
   "source": [
    "A function to read the OS1-16 lidar's internal timestamp\n"
   ],
   "metadata": {
    "collapsed": false
   }
  },
  {
   "cell_type": "code",
   "execution_count": 4,
   "outputs": [
    {
     "name": "stdout",
     "text": [
      "NOTE: All timestamps measured in seconds and each element is a timestamp for single azimuth block\n[33.0202114185206, 33.0202116496, 33.0202117174244, 33.0202119463, 33.0202120189236, 33.020212246132, 33.0202123185122, 33.02021254748, 33.0202126186208, 33.020212861196, 33.020212917536, 33.02021314678, 33.020213218632, 33.02021345714, 33.020213518654, 33.020213754204]\n"
     ],
     "output_type": "stream"
    }
   ],
   "source": [
    "def get_timestamp(data, arg, single_row=False, multiple_row=False, row_section=False):\n",
    "    \n",
    "    data = pd.read_csv(data)\n",
    "    timestamp = []\n",
    "\n",
    "    print(\"NOTE: All timestamps measured in seconds and each element is a timestamp for single azimuth block\")\n",
    "    if single_row is True:\n",
    "        for col in range(1, len(data.columns)-1, 788):\n",
    "            timestamp_segment = list(data.values[arg, col:col+8])\n",
    "            timestamp_segment.reverse()\n",
    "            timestamp_segment = [int(elem) for index, elem in enumerate(timestamp_segment)]\n",
    "            del timestamp_segment[0:3]\n",
    "            timestamp_segment[0] = float(timestamp_segment[0])\n",
    "            time = float(\"\".join(map(str, timestamp_segment)))\n",
    "            timestamp.append(time)\n",
    "    elif multiple_row is True:\n",
    "        for index, elem in enumerate(arg):\n",
    "            timestamp.append(\"new row\")\n",
    "            for col in range(1, len(data.columns)-1, 788):\n",
    "                timestamp_segment = list(data.values[elem, col:col+8])\n",
    "                timestamp_segment.reverse()\n",
    "                timestamp_segment = [int(elem) for index, elem in enumerate(timestamp_segment)]\n",
    "                del timestamp_segment[0:3]\n",
    "                timestamp_segment[0] = float(timestamp_segment[0])\n",
    "                time = float(\"\".join(map(str, timestamp_segment)))\n",
    "                timestamp.append(time)\n",
    "    elif row_section is True:\n",
    "        for row in range(arg[0], arg[1]+1):\n",
    "            timestamp.append(\"new row\")\n",
    "            for col in range(1, len(data.columns)-1, 788):\n",
    "                timestamp_segment = list(data.values[row, col:col+8])\n",
    "                timestamp_segment.reverse()\n",
    "                timestamp_segment = [int(elem) for index, elem in enumerate(timestamp_segment)]\n",
    "                del timestamp_segment[0:3]\n",
    "                timestamp_segment[0] = float(timestamp_segment[0])\n",
    "                time = float(\"\".join(map(str, timestamp_segment)))\n",
    "                timestamp.append(time)\n",
    "\n",
    "    return timestamp\n",
    "\n",
    "print(get_timestamp('lidar_data3.csv', 0, single_row=True))"
   ],
   "metadata": {
    "collapsed": false,
    "pycharm": {
     "name": "#%%\n",
     "is_executing": false
    }
   }
  },
  {
   "cell_type": "markdown",
   "source": [
    "A function to read the lidar's packets frame ID\n"
   ],
   "metadata": {
    "collapsed": false,
    "pycharm": {
     "name": "#%% md\n"
    }
   }
  },
  {
   "cell_type": "code",
   "execution_count": 5,
   "outputs": [
    {
     "name": "stdout",
     "text": [
      "NOTE: Each element is a frame ID for single azimuth block\n[222, 223, 224, 225, 226, 227, 228, 229, 230, 231, 232, 233, 234, 235, 236, 237]\n"
     ],
     "output_type": "stream"
    }
   ],
   "source": [
    "def get_frame_id(data, arg, single_row=False, multiple_row=False, row_section=False):\n",
    "    data = pd.read_csv(data)\n",
    "    frame_id = []\n",
    "\n",
    "    print(\"NOTE: Each element is a frame ID for single azimuth block\")\n",
    "    if single_row is True:\n",
    "        for col in range(9, len(data.columns) - 1, 788):\n",
    "            frame_id_segment = list(data.values[arg, col:col + 2])\n",
    "            frame_id_segment.reverse()\n",
    "            frame_id_segment = [int(elem) for index, elem in enumerate(frame_id_segment)]\n",
    "            frame = int(\"\".join(map(str, frame_id_segment)))\n",
    "            frame_id.append(frame)\n",
    "    elif multiple_row is True:\n",
    "        for index, elem in enumerate(arg):\n",
    "            frame_id.append(\"new row\")\n",
    "            for col in range(9, len(data.columns) - 1, 788):\n",
    "                frame_id_segment = list(data.values[elem, col:col + 2])\n",
    "                frame_id_segment.reverse()\n",
    "                frame_id_segment = [int(elem) for index, elem in enumerate(frame_id_segment)]\n",
    "                frame = int(\"\".join(map(str, frame_id_segment)))\n",
    "                frame_id.append(frame)\n",
    "    elif row_section is True:\n",
    "        for row in range(arg[0], arg[1] + 1):\n",
    "            frame_id.append(\"new row\")\n",
    "            for col in range(9, len(data.columns) - 1, 788):\n",
    "                frame_id_segment = list(data.values[row, col:col + 2])\n",
    "                frame_id_segment.reverse()\n",
    "                frame_id_segment = [int(elem) for index, elem in enumerate(frame_id_segment)]\n",
    "                frame = int(\"\".join(map(str, frame_id_segment)))\n",
    "                frame_id.append(frame)\n",
    "\n",
    "    return frame_id\n",
    "\n",
    "print(get_frame_id(\"lidar_data3.csv\", 0, single_row=True))\n"
   ],
   "metadata": {
    "collapsed": false,
    "pycharm": {
     "name": "#%%\n",
     "is_executing": false
    }
   }
  },
  {
   "cell_type": "markdown",
   "source": [
    "A function to read the lidar packet's measurement ID\n"
   ],
   "metadata": {
    "collapsed": false
   }
  },
  {
   "cell_type": "code",
   "execution_count": 6,
   "outputs": [
    {
     "name": "stdout",
     "text": [
      "NOTE: Each element is a measurement ID for single azimuth block\n[4239, 4239, 4239, 4239, 4239, 4239, 4239, 4239, 4239, 4239, 4239, 4239, 4239, 4239, 4239, 4239]\n"
     ],
     "output_type": "stream"
    }
   ],
   "source": [
    "def get_measurement_id(data, arg, single_row=False, multiple_row=False, row_section=False):\n",
    "    data = pd.read_csv(data)\n",
    "    measurement_id = []\n",
    "\n",
    "    print(\"NOTE: Each element is a measurement ID for single azimuth block\")\n",
    "    if single_row is True:\n",
    "        for col in range(11, len(data.columns)-1,788):\n",
    "            measurement_id_segment = list(data.values[arg, col:col+2])\n",
    "            measurement_id_segment.reverse()\n",
    "            measurement_id_segment = [int(elem) for index, elem in enumerate(measurement_id_segment)]\n",
    "            measurement = int(\"\".join(map(str, measurement_id_segment)))\n",
    "            measurement_id.append(measurement)\n",
    "    elif multiple_row is True:\n",
    "        for index, elem in enumerate(arg):\n",
    "            measurement_id.append(\"new row\")\n",
    "            for col in range(11, len(data.columns)-1,788):\n",
    "                measurement_id_segment = list(data.values[elem, col:col+2])\n",
    "                measurement_id_segment.reverse()\n",
    "                measurement_id_segment = [int(elem) for index, elem in enumerate(measurement_id_segment)]\n",
    "                measurement = int(\"\".join(map(str, measurement_id_segment)))\n",
    "                measurement_id.append(measurement)\n",
    "    elif row_section is True:\n",
    "        for row in range(arg[0], arg[1]+1):\n",
    "            measurement_id.append(\"new row\")\n",
    "            for col in range(11, len(data.columns)-1, 788):\n",
    "                measurement_id_segment = list(data.values[row, col:col+2])\n",
    "                measurement_id_segment.reverse()\n",
    "                measurement_id_segment = [int(elem) for index, elem in enumerate(measurement_id_segment)]\n",
    "                measurement = int(\"\".join(map(str, measurement_id_segment)))\n",
    "                measurement_id.append(measurement)\n",
    "\n",
    "    return measurement_id\n",
    "\n",
    "print(get_measurement_id(\"lidar_data3.csv\", 0, single_row=True))\n"
   ],
   "metadata": {
    "collapsed": false,
    "pycharm": {
     "name": "#%%\n",
     "is_executing": false
    }
   }
  },
  {
   "cell_type": "markdown",
   "source": [
    "A function to get a lidar packet's encoder count\n"
   ],
   "metadata": {
    "collapsed": false,
    "pycharm": {
     "name": "#%% md\n"
    }
   }
  },
  {
   "cell_type": "code",
   "execution_count": 7,
   "outputs": [
    {
     "name": "stdout",
     "text": [
      "NOTE: Each element is a encoder count for single azimuth block\n[7680, 76168, 770, 7788, 77176, 788, 7896, 78184, 7916, 79104, 79192, 8024, 80112, 80200, 8132, 81120]\n"
     ],
     "output_type": "stream"
    }
   ],
   "source": [
    "def get_encoder_count(data, arg, single_row=False, multiple_row=False, row_section=False):\n",
    "    data = pd.read_csv(data)\n",
    "\n",
    "    encoder_count = []\n",
    "\n",
    "    print(\"NOTE: Each element is a encoder count for single azimuth block\")\n",
    "    if single_row is True:\n",
    "        for col in range(13, len(data.columns) - 1, 788):\n",
    "            encoder_count_segment = list(data.values[arg, col:col + 4])\n",
    "            encoder_count_segment.reverse()\n",
    "            encoder_count_segment = [int(elem) for index, elem in enumerate(encoder_count_segment)]\n",
    "            encoder = int(\"\".join(map(str, encoder_count_segment)))\n",
    "            encoder_count.append(encoder)\n",
    "\n",
    "    elif multiple_row is True:\n",
    "        for index, elem in enumerate(arg):\n",
    "            encoder_count.append('new row')\n",
    "            for col in range(13, len(data.columns) - 1, 788):\n",
    "                encoder_count_segment = list(data.values[elem, col:col + 4])\n",
    "                encoder_count_segment.reverse()\n",
    "                encoder_count_segment = [int(elem) for index, elem in enumerate(encoder_count_segment)]\n",
    "                encoder = int(\"\".join(map(str, encoder_count_segment)))\n",
    "                encoder_count.append(encoder)\n",
    "    elif row_section is True:\n",
    "        for row in range(arg[0], arg[1] + 1):\n",
    "            encoder_count.append('new row')\n",
    "            for col in range(13, len(data.columns) - 1, 788):\n",
    "                encoder_count_segment = list(data.values[row, col:col + 4])\n",
    "                encoder_count_segment.reverse()\n",
    "                encoder_count_segment = [int(elem) for index, elem in enumerate(encoder_count_segment)]\n",
    "                encoder = int(\"\".join(map(str, encoder_count_segment)))\n",
    "                encoder_count.append(encoder)\n",
    "\n",
    "    return encoder_count\n",
    "\n",
    "print(get_encoder_count(\"lidar_data3.csv\", 0, single_row=True))\n"
   ],
   "metadata": {
    "collapsed": false,
    "pycharm": {
     "name": "#%%\n",
     "is_executing": false
    }
   }
  },
  {
   "cell_type": "markdown",
   "source": [
    "A function to read lidar packets range values in millimeter\n"
   ],
   "metadata": {
    "collapsed": false,
    "pycharm": {
     "name": "#%% md\n"
    }
   }
  },
  {
   "cell_type": "code",
   "execution_count": 9,
   "outputs": [
    {
     "name": "stdout",
     "text": [
      "NOTE: Each element is a range in millimeters for single channel in azimuth block\n[12810, 0, 0, 0, 19810, 0, 0, 0, 3810, 0, 0, 0, 0, 0, 0, 0, 0, 0, 0, 0, 0, 0, 0, 0, 0, 0, 0, 0, 1874, 0, 0, 0, 0, 0, 0, 0, 0, 0, 0, 0, 0, 0, 0, 0, 0, 0, 0, 0, 0, 0, 0, 0, 0, 0, 0, 0, 0, 0, 0, 0, 0, 0, 0, 0]\n"
     ],
     "output_type": "stream"
    }
   ],
   "source": [
    "def get_range(data, arg, single_row=False, multiple_row=False, row_section=False, azimuth_block=0):\n",
    "    data = pd.read_csv(data)\n",
    "    range_mm = []\n",
    "\n",
    "    print(\"NOTE: Each element is a range in millimeters for single channel in azimuth block\")\n",
    "    if single_row is True:\n",
    "        for col in (range(16+azimuth_block, azimuth_block+784, 12)):\n",
    "            range_segment = list(data.values[arg, col:col+3])\n",
    "            range_segment = [int(elem) for index, elem in enumerate(range_segment)]\n",
    "            rang = int(\"\".join(map(str, range_segment)))\n",
    "            range_mm.append(rang)\n",
    "    elif multiple_row is True:\n",
    "        for index, elem in enumerate(arg):\n",
    "            range_mm.append('new row')\n",
    "            for col in (range(16+azimuth_block, azimuth_block+784, 12)):\n",
    "                range_segment = list(data.values[elem, col:col+3])\n",
    "                range_segment = [int(elem) for index, elem in enumerate(range_segment)]\n",
    "                rang = int(\"\".join(map(str, range_segment)))\n",
    "                range_mm.append(rang)\n",
    "    elif row_section is True:\n",
    "        for row in range(arg[0], arg[1]+1):\n",
    "            range_mm.append('new row')\n",
    "            for col in (range(16+azimuth_block, azimuth_block+784, 12)):\n",
    "                range_segment = list(data.values[row, col:col+3])\n",
    "                range_segment = [int(elem) for index, elem in enumerate(range_segment)]\n",
    "                rang = int(\"\".join(map(str, range_segment)))\n",
    "                range_mm.append(rang)\n",
    "\n",
    "    return range_mm\n",
    "\n",
    "print(get_range(\"lidar_data3.csv\", 0, single_row=True))\n"
   ],
   "metadata": {
    "collapsed": false,
    "pycharm": {
     "name": "#%% \n",
     "is_executing": false
    }
   }
  },
  {
   "cell_type": "markdown",
   "source": [
    "A function to get lidar packet's signal photons\n"
   ],
   "metadata": {
    "collapsed": false,
    "pycharm": {
     "name": "#%% md\n"
    }
   }
  },
  {
   "cell_type": "code",
   "execution_count": 11,
   "outputs": [
    {
     "name": "stdout",
     "text": [
      "NOTE: Each element is a signal photon count for single channel in azimuth block\n[26, 0, 0, 0, 48, 0, 0, 0, 26, 0, 0, 0, 14, 0, 0, 0, 11, 0, 0, 0, 15, 0, 0, 0, 17, 0, 0, 0, 25, 0, 0, 0, 0, 0, 0, 0, 0, 0, 0, 0, 0, 0, 0, 0, 0, 0, 0, 0, 0, 0, 0, 0, 0, 0, 0, 0, 0, 0, 0, 0, 0, 0, 0, 0]\n"
     ],
     "output_type": "stream"
    }
   ],
   "source": [
    "def get_signal_photons(data, arg, single_row=False, multiple_row=False, row_section=False, azimuth_block=0):\n",
    "    data = pd.read_csv(data)\n",
    "    signal_photons = []\n",
    "\n",
    "    print(\"NOTE: Each element is a signal photon count for single channel in azimuth block\")\n",
    "    if single_row is True:\n",
    "        for col in (range(22+azimuth_block, azimuth_block+784, 12)):\n",
    "            signal_photons_segment = list(data.values[arg, col:col+2])\n",
    "            signal_photons_segment = [int(elem) for index, elem in enumerate(signal_photons_segment)]\n",
    "            signl_p = int(\"\".join(map(str, signal_photons_segment)))\n",
    "            signal_photons.append(signl_p)\n",
    "    elif multiple_row is True:\n",
    "        for index, elem in enumerate(arg):\n",
    "            signal_photons.append('new row')\n",
    "            for col in (range(22+azimuth_block, azimuth_block+784, 12)):\n",
    "                signal_photons_segment = list(data.values[elem, col:col+2])\n",
    "                signal_photons_segment = [int(elem) for index, elem in enumerate(signal_photons_segment)]\n",
    "                signl_p = int(\"\".join(map(str, signal_photons_segment)))\n",
    "                signal_photons.append(signl_p)\n",
    "    elif row_section is True:\n",
    "        for row in range(arg[0], arg[1]+1):\n",
    "            signal_photons.append('new row')\n",
    "            for col in (range(22+azimuth_block, azimuth_block+784, 12)):\n",
    "                signal_photons_segment = list(data.values[row, col:col+2])\n",
    "                signal_photons_segment = [int(elem) for index, elem in enumerate(signal_photons_segment)]\n",
    "                signl_p = int(\"\".join(map(str, signal_photons_segment)))\n",
    "                signal_photons.append(signl_p)\n",
    "\n",
    "    return signal_photons\n",
    "\n",
    "print(get_signal_photons(\"lidar_data3.csv\", 0, single_row=True))\n"
   ],
   "metadata": {
    "collapsed": false,
    "pycharm": {
     "name": "#%%\n",
     "is_executing": false
    }
   }
  },
  {
   "cell_type": "markdown",
   "source": [
    "A function to read lidar packet reflectivity values\n"
   ],
   "metadata": {
    "collapsed": false,
    "pycharm": {
     "name": "#%% md\n"
    }
   }
  },
  {
   "cell_type": "code",
   "execution_count": 12,
   "outputs": [
    {
     "name": "stdout",
     "text": [
      "NOTE: Each element is a reflectivity for single channel in azimuth block\n[19, 0, 0, 0, 36, 0, 0, 0, 18, 0, 0, 0, 0, 0, 0, 0, 0, 0, 0, 0, 0, 0, 0, 0, 0, 0, 0, 0, 4, 0, 0, 0, 0, 0, 0, 0, 0, 0, 0, 0, 0, 0, 0, 0, 0, 0, 0, 0, 0, 0, 0, 0, 0, 0, 0, 0, 0, 0, 0, 0, 0, 0, 0, 0]\n"
     ],
     "output_type": "stream"
    }
   ],
   "source": [
    "def get_reflectivity(data, arg, single_row=False, multiple_row=False, row_section=False, azimuth_block=0):\n",
    "    data = pd.read_csv(data)\n",
    "    reflectivity = []\n",
    "\n",
    "    print(\"NOTE: Each element is a reflectivity for single channel in azimuth block\")\n",
    "    if single_row is True:\n",
    "        for col in (range(20+azimuth_block, azimuth_block+784, 12)):\n",
    "            reflectivity_segment = list(data.values[arg, col:col+2])\n",
    "            reflectivity_segment = [int(elem) for index, elem in enumerate(reflectivity_segment)]\n",
    "            reflect = int(\"\".join(map(str, reflectivity_segment)))\n",
    "            reflectivity.append(reflect)\n",
    "    elif multiple_row is True:\n",
    "        for index, elem in enumerate(arg):\n",
    "            reflectivity.append('new row')\n",
    "            for col in (range(20+azimuth_block, azimuth_block+784, 12)):\n",
    "                reflectivity_segment = list(data.values[elem, col:col+2])\n",
    "                reflectivity_segment = [int(elem) for index, elem in enumerate(reflectivity_segment)]\n",
    "                reflect = int(\"\".join(map(str, reflectivity_segment)))\n",
    "                reflectivity.append(reflect)\n",
    "    elif row_section is True:\n",
    "        for row in range(arg[0], arg[1]+1):\n",
    "            reflectivity.append('new row')\n",
    "            for col in (range(20+azimuth_block, azimuth_block+784, 12)):\n",
    "                reflectivity_segment = list(data.values[row, col:col+2])\n",
    "                reflectivity_segment = [int(elem) for index, elem in enumerate(reflectivity_segment)]\n",
    "                reflect = int(\"\".join(map(str, reflectivity_segment)))\n",
    "                reflectivity.append(reflect)\n",
    "\n",
    "    return reflectivity\n",
    "\n",
    "print(get_reflectivity(\"lidar_data3.csv\", 0, single_row=True))\n"
   ],
   "metadata": {
    "collapsed": false,
    "pycharm": {
     "name": "#%%\n",
     "is_executing": false
    }
   }
  },
  {
   "cell_type": "markdown",
   "source": [
    "A function to read lidar packet noise photons values\n"
   ],
   "metadata": {
    "collapsed": false,
    "pycharm": {
     "name": "#%% md\n"
    }
   }
  },
  {
   "cell_type": "code",
   "execution_count": 13,
   "outputs": [
    {
     "name": "stdout",
     "text": [
      "NOTE: Each element is a noise photon count for single channel in azimuth block\n[1456, 3633, 1, 129128, 1704, 400, 1920, 124176, 2274, 360, 177190, 61, 2043, 10, 369, 1287, 1214, 21022, 80, 132112, 2344, 170254, 226136, 216255, 2543, 8, 252248, 248, 1962, 9239, 150, 9663, 1647, 128148, 70, 232178, 1536, 172, 12864, 202, 1895, 2870, 157112, 214, 2203, 24172, 12639, 19253, 5012, 136128, 4, 94238, 193, 1280, 4160, 208124, 1474, 255143, 4064, 90, 2433, 848, 16724, 20068]\n"
     ],
     "output_type": "stream"
    }
   ],
   "source": [
    "def get_noise_photons(data, arg, single_row=False, multiple_row=False, row_section=False, azimuth_block=0):\n",
    "    data = pd.read_csv(data)\n",
    "    noise_photons = []\n",
    "\n",
    "    print(\"NOTE: Each element is a noise photon count for single channel in azimuth block\")\n",
    "    if single_row is True:\n",
    "        for col in (range(24+azimuth_block, azimuth_block+788, 12)):\n",
    "            noise_photons_segment = list(data.values[arg, col:col+3])\n",
    "            noise_photons_segment = [int(elem) for index, elem in enumerate(noise_photons_segment)]\n",
    "            noise_p = int(\"\".join(map(str, noise_photons_segment)))\n",
    "            noise_photons.append(noise_p)\n",
    "    elif multiple_row is True:\n",
    "        for index, elem in enumerate(arg):\n",
    "            noise_photons.append('new row')\n",
    "            for col in (range(24+azimuth_block, azimuth_block+788, 12)):\n",
    "                noise_photons_segment = list(data.values[elem, col:col+3])\n",
    "                noise_photons_segment = [int(elem) for index, elem in enumerate(noise_photons_segment)]\n",
    "                noise_p = int(\"\".join(map(str, noise_photons_segment)))\n",
    "                noise_photons.append(noise_p)\n",
    "    elif row_section is True:\n",
    "        for row in range(arg[0], arg[1]+1):\n",
    "            noise_photons.append('new row')\n",
    "            for col in (range(24+azimuth_block, azimuth_block+788, 12)):\n",
    "                noise_photons_segment = list(data.values[row, col:col+3])\n",
    "                noise_photons_segment = [int(elem) for index, elem in enumerate(noise_photons_segment)]\n",
    "                noise_p = int(\"\".join(map(str, noise_photons_segment)))\n",
    "                noise_photons.append(noise_p)\n",
    "\n",
    "\n",
    "    return noise_photons\n",
    "\n",
    "print(get_noise_photons(\"lidar_data3.csv\", 0, single_row=True))\n",
    "\n"
   ],
   "metadata": {
    "collapsed": false,
    "pycharm": {
     "name": "#%% \n",
     "is_executing": false
    }
   }
  }
 ],
 "metadata": {
  "language_info": {
   "codemirror_mode": {
    "name": "ipython",
    "version": 2
   },
   "file_extension": ".py",
   "mimetype": "text/x-python",
   "name": "python",
   "nbconvert_exporter": "python",
   "pygments_lexer": "ipython2",
   "version": "2.7.6"
  },
  "kernelspec": {
   "name": "python3",
   "language": "python",
   "display_name": "Python 3"
  },
  "pycharm": {
   "stem_cell": {
    "cell_type": "raw",
    "source": [],
    "metadata": {
     "collapsed": false
    }
   }
  }
 },
 "nbformat": 4,
 "nbformat_minor": 0
}